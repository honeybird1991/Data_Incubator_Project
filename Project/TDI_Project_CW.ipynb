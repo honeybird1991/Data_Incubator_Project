{
 "cells": [
  {
   "cell_type": "markdown",
   "metadata": {},
   "source": [
    "<font size=\"5\">Peek-Pick: a real-time system for displaying and recommending services.</font>"
   ]
  },
  {
   "cell_type": "markdown",
   "metadata": {},
   "source": [
    "# Abstract"
   ]
  },
  {
   "cell_type": "markdown",
   "metadata": {},
   "source": [
    "In recent years, numerous online food platforms have been developed with a number of features for a customer to rate and review the food and services. The ratings and reviews become critical factors when new consumers select their taste. Though the ratings have been quantified from 1-5, the closeness of ratings (e.g., 4.5 vs 4.6) does not well distinguish which restaurant is more popular and preferable. However, reviews are more informative and often evaluated by customers before making a decision, especially for some pricy restaurants or services. Due to the limited space for each restaurant to show reviews on a webpage, only one or two reviews for each restaurant are displayed, which does not represent the overall impression by the reviewers. Users need to click the reviews webpage to view more content. Therefore, it is critical to provide a concise and informative summary of the reviews for customers. Recently, many text summarization techniques in Natural Language Processing have been developed to extract key information across a single document and multiple documents. Since most of the text summarization research focuses on model optimization and application large corpus of data in news, books or articles, the application to real-world recommendation systems in still very rare.\n",
    "\n",
    "In this project, I am going to implement text summarization models, primarily extractive text summarization, to all reviews for each service in Yelp to extract the key information such as favorite food recommended by customers. Based on the summarization of reviews, I will combine other information such as ratings, prices to develop a recommendation system for restaurants in Yelp. The recommendation system (Peek-Pick) aims to provide a quick yet informative overview of one restaurant for consumers.\n",
    "\n",
    "The data set in proposed using Yelp API to fetch real-time data on the Yelp website. However, it’s found that only three reviews are allowed to retrieve for pubic users. Therefore, the public review data set published by Yelp and the API retrieved information are evaluated in this project. The data set and API links are https://www.kaggle.com/yelp-dataset/yelp-dataset and https://www.yelp.com/developers/documentation/v3. The whole recommendation system will be hosted using the Heroku web application. I performed exploratory data analysis is access the feasibility of the project, including access Yelp data by Yelp API, generating insights based on the distribution of restaurant data and baseline model of text summarization of reviews."
   ]
  },
  {
   "cell_type": "markdown",
   "metadata": {},
   "source": [
    "# preliminary data analysis"
   ]
  },
  {
   "cell_type": "markdown",
   "metadata": {},
   "source": [
    "## Obtain data from yelp"
   ]
  },
  {
   "cell_type": "code",
   "execution_count": 1,
   "metadata": {},
   "outputs": [],
   "source": [
    "from bs4 import BeautifulSoup\n",
    "from urllib.parse import urlencode\n",
    "from urllib.request import Request, urlopen\n",
    "import requests\n",
    "from pprint import pprint\n",
    "from urllib.parse import urljoin\n",
    "import re\n",
    "import pandas as pd\n",
    "import json"
   ]
  },
  {
   "cell_type": "markdown",
   "metadata": {},
   "source": [
    "### Use yelp API to perform requesting"
   ]
  },
  {
   "cell_type": "code",
   "execution_count": 95,
   "metadata": {},
   "outputs": [],
   "source": [
    "api_key = \"1Xv8E9iGq2samlHQ0gQoXUyhcNqlZGh9ZrSyyxo9jdvKg2bDYaZut1fmCQ27DQtpLFw9v6oapiq-E29qZUAsTQ-1j_VRR-aHRH5CA1rjBhw2txGP_TC34AKCOQ8HXHYx\" "
   ]
  },
  {
   "cell_type": "code",
   "execution_count": 96,
   "metadata": {},
   "outputs": [],
   "source": [
    "data = []\n",
    "url = 'https://api.yelp.com/v3/businesses/search?'\n",
    "for offset in range(0, 1000, 50): \n",
    "    headers = {'Authorization': 'Bearer %s' % api_key}\n",
    "    params = {'limit': 50, \n",
    "              'location': 'Columbus, OH',\n",
    "              'term': 'seafood restaurants',\n",
    "        'offset': offset}\n",
    "    response = requests.get(url, headers=headers, params=params)\n",
    "    if response.status_code == 200:\n",
    "            data += response.json()['businesses']\n",
    "    elif response.status_code == 400:\n",
    "        print('400 Bad Request')\n",
    "        break"
   ]
  },
  {
   "cell_type": "code",
   "execution_count": 97,
   "metadata": {},
   "outputs": [
    {
     "name": "stdout",
     "output_type": "stream",
     "text": [
      "604\n"
     ]
    }
   ],
   "source": [
    "print(len(data))"
   ]
  },
  {
   "cell_type": "markdown",
   "metadata": {},
   "source": [
    "**There are 604 records in total**"
   ]
  },
  {
   "cell_type": "markdown",
   "metadata": {},
   "source": [
    "### Store the search result in dataframe "
   ]
  },
  {
   "cell_type": "code",
   "execution_count": 98,
   "metadata": {},
   "outputs": [],
   "source": [
    "result = pd.DataFrame(columns=['id','name','price','rating','number of review'])\n",
    "i = 0\n",
    "for business in data:\n",
    "    if 'price' in business.keys():\n",
    "        result = result.append({'id':business['id'],'name':business['name'],'price':business['price'],'rating':business['rating'],'number of review': business['review_count']},ignore_index = True)"
   ]
  },
  {
   "cell_type": "code",
   "execution_count": 99,
   "metadata": {},
   "outputs": [
    {
     "data": {
      "text/html": [
       "<div>\n",
       "<style scoped>\n",
       "    .dataframe tbody tr th:only-of-type {\n",
       "        vertical-align: middle;\n",
       "    }\n",
       "\n",
       "    .dataframe tbody tr th {\n",
       "        vertical-align: top;\n",
       "    }\n",
       "\n",
       "    .dataframe thead th {\n",
       "        text-align: right;\n",
       "    }\n",
       "</style>\n",
       "<table border=\"1\" class=\"dataframe\">\n",
       "  <thead>\n",
       "    <tr style=\"text-align: right;\">\n",
       "      <th></th>\n",
       "      <th>id</th>\n",
       "      <th>name</th>\n",
       "      <th>price</th>\n",
       "      <th>rating</th>\n",
       "      <th>number of review</th>\n",
       "    </tr>\n",
       "  </thead>\n",
       "  <tbody>\n",
       "    <tr>\n",
       "      <th>0</th>\n",
       "      <td>o4kF_b-ChUzozUsfZ-eO4w</td>\n",
       "      <td>Kai's Crab Boil</td>\n",
       "      <td>$$</td>\n",
       "      <td>4.5</td>\n",
       "      <td>357</td>\n",
       "    </tr>\n",
       "    <tr>\n",
       "      <th>1</th>\n",
       "      <td>AoS-6pVocSmnrYhyj9N0lg</td>\n",
       "      <td>Frank's Fish And Seafood Market</td>\n",
       "      <td>$$</td>\n",
       "      <td>4.5</td>\n",
       "      <td>192</td>\n",
       "    </tr>\n",
       "    <tr>\n",
       "      <th>2</th>\n",
       "      <td>uk0EeEv3egyPn-thIABpAg</td>\n",
       "      <td>The Pearl</td>\n",
       "      <td>$$</td>\n",
       "      <td>4.0</td>\n",
       "      <td>817</td>\n",
       "    </tr>\n",
       "    <tr>\n",
       "      <th>3</th>\n",
       "      <td>b5XdrFaBWwMleq3gFnA4_A</td>\n",
       "      <td>Mitchell's Ocean Club</td>\n",
       "      <td>$$$</td>\n",
       "      <td>4.5</td>\n",
       "      <td>415</td>\n",
       "    </tr>\n",
       "    <tr>\n",
       "      <th>4</th>\n",
       "      <td>Zu9Jg3FzpxzP4ckWxCWkHg</td>\n",
       "      <td>Windward Passage Restaurant</td>\n",
       "      <td>$$</td>\n",
       "      <td>4.0</td>\n",
       "      <td>151</td>\n",
       "    </tr>\n",
       "  </tbody>\n",
       "</table>\n",
       "</div>"
      ],
      "text/plain": [
       "                       id                             name price  rating  \\\n",
       "0  o4kF_b-ChUzozUsfZ-eO4w                  Kai's Crab Boil    $$     4.5   \n",
       "1  AoS-6pVocSmnrYhyj9N0lg  Frank's Fish And Seafood Market    $$     4.5   \n",
       "2  uk0EeEv3egyPn-thIABpAg                        The Pearl    $$     4.0   \n",
       "3  b5XdrFaBWwMleq3gFnA4_A            Mitchell's Ocean Club   $$$     4.5   \n",
       "4  Zu9Jg3FzpxzP4ckWxCWkHg      Windward Passage Restaurant    $$     4.0   \n",
       "\n",
       "  number of review  \n",
       "0              357  \n",
       "1              192  \n",
       "2              817  \n",
       "3              415  \n",
       "4              151  "
      ]
     },
     "execution_count": 99,
     "metadata": {},
     "output_type": "execute_result"
    }
   ],
   "source": [
    "result.head()"
   ]
  },
  {
   "cell_type": "code",
   "execution_count": 100,
   "metadata": {},
   "outputs": [],
   "source": [
    "result.to_csv('./search_result.csv',index=False)"
   ]
  },
  {
   "cell_type": "code",
   "execution_count": null,
   "metadata": {},
   "outputs": [],
   "source": [
    "result = pd.read_csv('./search_result.csv')"
   ]
  },
  {
   "cell_type": "markdown",
   "metadata": {},
   "source": [
    "## Obtain Review Examples from Yelp"
   ]
  },
  {
   "cell_type": "code",
   "execution_count": 102,
   "metadata": {},
   "outputs": [],
   "source": [
    "ids = list(result.id.unique())"
   ]
  },
  {
   "cell_type": "code",
   "execution_count": 103,
   "metadata": {},
   "outputs": [],
   "source": [
    "review_data = []\n",
    "id_test = ids[:1]\n",
    "for i in id_test: \n",
    "    url_review = 'https://api.yelp.com/v3/businesses/%s/reviews' % i\n",
    "    headers = {'Authorization': 'Bearer %s' % api_key}\n",
    "    response = requests.get(url_review, headers=headers)\n",
    "    if response.status_code == 200:\n",
    "            review_data += response.json()['reviews']\n",
    "    elif response.status_code == 400:\n",
    "        print('400 Bad Request')\n",
    "        break"
   ]
  },
  {
   "cell_type": "code",
   "execution_count": 104,
   "metadata": {},
   "outputs": [
    {
     "name": "stdout",
     "output_type": "stream",
     "text": [
      "ds2H7quSqmSecBVLZNrC-w\n",
      "Kai's is AMAZING. I was highly impressed with our service, quality of food and cocktails we all had! I came here over the weekend for both of my aunts...\n",
      "OuzoepL3YVSnuv8jyzKszw\n",
      "As far as cajun style boils go in the north, Kai's was pretty good. They serve up your food in a plastic bag that you dump and eat directly from the table...\n",
      "cmUgT9kcMS93vaprranYdw\n",
      "This place is crazy market price\n",
      "Can't possibly be good \n",
      "And they hide the prices on a piece of paper\n",
      "\n",
      "$45 for a lobster\n",
      "Like $38 for king crab\n",
      "Walked out\n",
      "Bye\n"
     ]
    }
   ],
   "source": [
    "for review in review_data:\n",
    "    print(review['id'])\n",
    "    print(review['text'])"
   ]
  },
  {
   "cell_type": "markdown",
   "metadata": {},
   "source": [
    "Only three reviews are allowed to be retrived. Additional review data is evaluated by using review data set published by Yelp. (https://www.yelp.com/dataset)"
   ]
  },
  {
   "cell_type": "markdown",
   "metadata": {},
   "source": [
    "## Exploratory Data Analysis"
   ]
  },
  {
   "cell_type": "markdown",
   "metadata": {},
   "source": [
    "Change price to quantitative metrics, i.e., change '\\$$' to 2. <br>"
   ]
  },
  {
   "cell_type": "code",
   "execution_count": 105,
   "metadata": {},
   "outputs": [],
   "source": [
    "for index, row in result.iterrows():\n",
    "    result.at[index,'price'] = row['price'].count('$')"
   ]
  },
  {
   "cell_type": "code",
   "execution_count": 106,
   "metadata": {},
   "outputs": [
    {
     "data": {
      "text/html": [
       "<div>\n",
       "<style scoped>\n",
       "    .dataframe tbody tr th:only-of-type {\n",
       "        vertical-align: middle;\n",
       "    }\n",
       "\n",
       "    .dataframe tbody tr th {\n",
       "        vertical-align: top;\n",
       "    }\n",
       "\n",
       "    .dataframe thead th {\n",
       "        text-align: right;\n",
       "    }\n",
       "</style>\n",
       "<table border=\"1\" class=\"dataframe\">\n",
       "  <thead>\n",
       "    <tr style=\"text-align: right;\">\n",
       "      <th></th>\n",
       "      <th>id</th>\n",
       "      <th>name</th>\n",
       "      <th>price</th>\n",
       "      <th>rating</th>\n",
       "      <th>number of review</th>\n",
       "    </tr>\n",
       "  </thead>\n",
       "  <tbody>\n",
       "    <tr>\n",
       "      <th>0</th>\n",
       "      <td>o4kF_b-ChUzozUsfZ-eO4w</td>\n",
       "      <td>Kai's Crab Boil</td>\n",
       "      <td>2</td>\n",
       "      <td>4.5</td>\n",
       "      <td>357</td>\n",
       "    </tr>\n",
       "    <tr>\n",
       "      <th>1</th>\n",
       "      <td>AoS-6pVocSmnrYhyj9N0lg</td>\n",
       "      <td>Frank's Fish And Seafood Market</td>\n",
       "      <td>2</td>\n",
       "      <td>4.5</td>\n",
       "      <td>192</td>\n",
       "    </tr>\n",
       "    <tr>\n",
       "      <th>2</th>\n",
       "      <td>uk0EeEv3egyPn-thIABpAg</td>\n",
       "      <td>The Pearl</td>\n",
       "      <td>2</td>\n",
       "      <td>4.0</td>\n",
       "      <td>817</td>\n",
       "    </tr>\n",
       "    <tr>\n",
       "      <th>3</th>\n",
       "      <td>b5XdrFaBWwMleq3gFnA4_A</td>\n",
       "      <td>Mitchell's Ocean Club</td>\n",
       "      <td>3</td>\n",
       "      <td>4.5</td>\n",
       "      <td>415</td>\n",
       "    </tr>\n",
       "    <tr>\n",
       "      <th>4</th>\n",
       "      <td>Zu9Jg3FzpxzP4ckWxCWkHg</td>\n",
       "      <td>Windward Passage Restaurant</td>\n",
       "      <td>2</td>\n",
       "      <td>4.0</td>\n",
       "      <td>151</td>\n",
       "    </tr>\n",
       "  </tbody>\n",
       "</table>\n",
       "</div>"
      ],
      "text/plain": [
       "                       id                             name price  rating  \\\n",
       "0  o4kF_b-ChUzozUsfZ-eO4w                  Kai's Crab Boil     2     4.5   \n",
       "1  AoS-6pVocSmnrYhyj9N0lg  Frank's Fish And Seafood Market     2     4.5   \n",
       "2  uk0EeEv3egyPn-thIABpAg                        The Pearl     2     4.0   \n",
       "3  b5XdrFaBWwMleq3gFnA4_A            Mitchell's Ocean Club     3     4.5   \n",
       "4  Zu9Jg3FzpxzP4ckWxCWkHg      Windward Passage Restaurant     2     4.0   \n",
       "\n",
       "   number of review  \n",
       "0               357  \n",
       "1               192  \n",
       "2               817  \n",
       "3               415  \n",
       "4               151  "
      ]
     },
     "execution_count": 106,
     "metadata": {},
     "output_type": "execute_result"
    }
   ],
   "source": [
    "result.head()"
   ]
  },
  {
   "cell_type": "code",
   "execution_count": 107,
   "metadata": {},
   "outputs": [],
   "source": [
    "result['price'] = result['price'].astype(int)\n",
    "result['rating'] = result['rating'].astype(float)\n",
    "result['number of review'] = result['number of review'].astype(int)"
   ]
  },
  {
   "cell_type": "markdown",
   "metadata": {},
   "source": [
    "### Correlation plot between variables"
   ]
  },
  {
   "cell_type": "code",
   "execution_count": 6,
   "metadata": {},
   "outputs": [],
   "source": [
    "import seaborn as sns"
   ]
  },
  {
   "cell_type": "markdown",
   "metadata": {},
   "source": [
    "**Figure 1**"
   ]
  },
  {
   "cell_type": "code",
   "execution_count": 17,
   "metadata": {},
   "outputs": [
    {
     "data": {
      "image/png": "[encoded data removed]",
      "text/plain": [
       "<Figure size 432x288 with 1 Axes>"
      ]
     },
     "metadata": {
      "needs_background": "light"
     },
     "output_type": "display_data"
    }
   ],
   "source": [
    "ax = sns.swarmplot(x='rating',y='price', data=result)"
   ]
  },
  {
   "cell_type": "markdown",
   "metadata": {},
   "source": [
    "**The figure shows restaurants with low prices (1 and 2 ) have similar distribution among each rating range (from 1.5 to 5). However, restaurants with high prices (3 and 4 ) often have higher rating (from 3.5 to 5)**"
   ]
  },
  {
   "cell_type": "markdown",
   "metadata": {},
   "source": [
    "**Figure 2**"
   ]
  },
  {
   "cell_type": "code",
   "execution_count": 18,
   "metadata": {},
   "outputs": [
    {
     "data": {
      "image/png": "[encoded data removed]",
      "text/plain": [
       "<Figure size 432x288 with 1 Axes>"
      ]
     },
     "metadata": {
      "needs_background": "light"
     },
     "output_type": "display_data"
    }
   ],
   "source": [
    "ax = sns.swarmplot(x='rating',y='number of review', data=result)"
   ]
  },
  {
   "cell_type": "markdown",
   "metadata": {},
   "source": [
    "**The figure shows that the majority of restaurants receive reviews less than 200. However, there are a few restaurant receive reviews more than 600 with rating at 4.0 and 4.5, which are worthy to investigate further.**"
   ]
  },
  {
   "cell_type": "markdown",
   "metadata": {},
   "source": [
    "**Figure 3**"
   ]
  },
  {
   "cell_type": "code",
   "execution_count": 19,
   "metadata": {},
   "outputs": [
    {
     "data": {
      "image/png": "[encoded data removed]",
      "text/plain": [
       "<Figure size 432x288 with 1 Axes>"
      ]
     },
     "metadata": {
      "needs_background": "light"
     },
     "output_type": "display_data"
    }
   ],
   "source": [
    "ax = sns.swarmplot(x='price',y='number of review', data=result)"
   ]
  },
  {
   "cell_type": "markdown",
   "metadata": {},
   "source": [
    "The figure shows that most restaurants are in price (2 i.e.,$$), among which the restaurants receive highest number of review."
   ]
  },
  {
   "cell_type": "markdown",
   "metadata": {},
   "source": [
    "### Pairwise plot"
   ]
  },
  {
   "cell_type": "code",
   "execution_count": 20,
   "metadata": {},
   "outputs": [
    {
     "data": {
      "text/plain": [
       "<seaborn.axisgrid.PairGrid at 0x1a278d3358>"
      ]
     },
     "execution_count": 20,
     "metadata": {},
     "output_type": "execute_result"
    },
    {
     "data": {
      "image/png": "[encoded data removed]",
      "text/plain": [
       "<Figure size 540x540 with 12 Axes>"
      ]
     },
     "metadata": {
      "needs_background": "light"
     },
     "output_type": "display_data"
    }
   ],
   "source": [
    "sns.pairplot(result, vars=[\"rating\", \"number of review\",\"price\"])"
   ]
  },
  {
   "cell_type": "markdown",
   "metadata": {},
   "source": [
    "## Find the best restaurant based on review and rating"
   ]
  },
  {
   "cell_type": "code",
   "execution_count": 21,
   "metadata": {},
   "outputs": [
    {
     "data": {
      "text/html": [
       "<div>\n",
       "<style scoped>\n",
       "    .dataframe tbody tr th:only-of-type {\n",
       "        vertical-align: middle;\n",
       "    }\n",
       "\n",
       "    .dataframe tbody tr th {\n",
       "        vertical-align: top;\n",
       "    }\n",
       "\n",
       "    .dataframe thead th {\n",
       "        text-align: right;\n",
       "    }\n",
       "</style>\n",
       "<table border=\"1\" class=\"dataframe\">\n",
       "  <thead>\n",
       "    <tr style=\"text-align: right;\">\n",
       "      <th></th>\n",
       "      <th>name</th>\n",
       "      <th>price</th>\n",
       "      <th>rating</th>\n",
       "      <th>number of review</th>\n",
       "    </tr>\n",
       "  </thead>\n",
       "  <tbody>\n",
       "    <tr>\n",
       "      <th>108</th>\n",
       "      <td>North Market</td>\n",
       "      <td>2</td>\n",
       "      <td>4.5</td>\n",
       "      <td>813</td>\n",
       "    </tr>\n",
       "    <tr>\n",
       "      <th>340</th>\n",
       "      <td>Los Guachos Taqueria</td>\n",
       "      <td>1</td>\n",
       "      <td>4.5</td>\n",
       "      <td>739</td>\n",
       "    </tr>\n",
       "    <tr>\n",
       "      <th>25</th>\n",
       "      <td>Akai Hana</td>\n",
       "      <td>2</td>\n",
       "      <td>4.5</td>\n",
       "      <td>558</td>\n",
       "    </tr>\n",
       "    <tr>\n",
       "      <th>52</th>\n",
       "      <td>Third and Hollywood</td>\n",
       "      <td>3</td>\n",
       "      <td>4.5</td>\n",
       "      <td>546</td>\n",
       "    </tr>\n",
       "    <tr>\n",
       "      <th>190</th>\n",
       "      <td>Momo Ghar</td>\n",
       "      <td>1</td>\n",
       "      <td>4.5</td>\n",
       "      <td>530</td>\n",
       "    </tr>\n",
       "    <tr>\n",
       "      <th>71</th>\n",
       "      <td>Wolf's Ridge Brewing</td>\n",
       "      <td>2</td>\n",
       "      <td>4.0</td>\n",
       "      <td>886</td>\n",
       "    </tr>\n",
       "    <tr>\n",
       "      <th>2</th>\n",
       "      <td>The Pearl</td>\n",
       "      <td>2</td>\n",
       "      <td>4.0</td>\n",
       "      <td>817</td>\n",
       "    </tr>\n",
       "    <tr>\n",
       "      <th>164</th>\n",
       "      <td>Marcella's Columbus - Short</td>\n",
       "      <td>2</td>\n",
       "      <td>4.0</td>\n",
       "      <td>728</td>\n",
       "    </tr>\n",
       "    <tr>\n",
       "      <th>134</th>\n",
       "      <td>Forno Kitchen + Bar</td>\n",
       "      <td>2</td>\n",
       "      <td>4.0</td>\n",
       "      <td>654</td>\n",
       "    </tr>\n",
       "    <tr>\n",
       "      <th>50</th>\n",
       "      <td>Lindey's</td>\n",
       "      <td>3</td>\n",
       "      <td>4.0</td>\n",
       "      <td>653</td>\n",
       "    </tr>\n",
       "    <tr>\n",
       "      <th>77</th>\n",
       "      <td>Cooper's Hawk Winery &amp; Restaurants - Columbus</td>\n",
       "      <td>2</td>\n",
       "      <td>4.0</td>\n",
       "      <td>624</td>\n",
       "    </tr>\n",
       "    <tr>\n",
       "      <th>55</th>\n",
       "      <td>Cap City Fine Diner Columbus - Grandview</td>\n",
       "      <td>2</td>\n",
       "      <td>4.0</td>\n",
       "      <td>547</td>\n",
       "    </tr>\n",
       "    <tr>\n",
       "      <th>385</th>\n",
       "      <td>Aab India Restaurant</td>\n",
       "      <td>2</td>\n",
       "      <td>4.0</td>\n",
       "      <td>541</td>\n",
       "    </tr>\n",
       "    <tr>\n",
       "      <th>182</th>\n",
       "      <td>Starliner Diner</td>\n",
       "      <td>1</td>\n",
       "      <td>4.0</td>\n",
       "      <td>525</td>\n",
       "    </tr>\n",
       "    <tr>\n",
       "      <th>321</th>\n",
       "      <td>Nada</td>\n",
       "      <td>2</td>\n",
       "      <td>4.0</td>\n",
       "      <td>522</td>\n",
       "    </tr>\n",
       "    <tr>\n",
       "      <th>150</th>\n",
       "      <td>Lemon Grass Fusion Bistro</td>\n",
       "      <td>2</td>\n",
       "      <td>4.0</td>\n",
       "      <td>516</td>\n",
       "    </tr>\n",
       "  </tbody>\n",
       "</table>\n",
       "</div>"
      ],
      "text/plain": [
       "                                              name  price  rating  \\\n",
       "108                                   North Market      2     4.5   \n",
       "340                           Los Guachos Taqueria      1     4.5   \n",
       "25                                       Akai Hana      2     4.5   \n",
       "52                             Third and Hollywood      3     4.5   \n",
       "190                                      Momo Ghar      1     4.5   \n",
       "71                            Wolf's Ridge Brewing      2     4.0   \n",
       "2                                        The Pearl      2     4.0   \n",
       "164                    Marcella's Columbus - Short      2     4.0   \n",
       "134                            Forno Kitchen + Bar      2     4.0   \n",
       "50                                        Lindey's      3     4.0   \n",
       "77   Cooper's Hawk Winery & Restaurants - Columbus      2     4.0   \n",
       "55        Cap City Fine Diner Columbus - Grandview      2     4.0   \n",
       "385                           Aab India Restaurant      2     4.0   \n",
       "182                                Starliner Diner      1     4.0   \n",
       "321                                           Nada      2     4.0   \n",
       "150                      Lemon Grass Fusion Bistro      2     4.0   \n",
       "\n",
       "     number of review  \n",
       "108               813  \n",
       "340               739  \n",
       "25                558  \n",
       "52                546  \n",
       "190               530  \n",
       "71                886  \n",
       "2                 817  \n",
       "164               728  \n",
       "134               654  \n",
       "50                653  \n",
       "77                624  \n",
       "55                547  \n",
       "385               541  \n",
       "182               525  \n",
       "321               522  \n",
       "150               516  "
      ]
     },
     "execution_count": 21,
     "metadata": {},
     "output_type": "execute_result"
    }
   ],
   "source": [
    "candidates = result[result['number of review'] > 500].sort_values(by=['rating','number of review'],ascending=False)\n",
    "candidates"
   ]
  },
  {
   "cell_type": "markdown",
   "metadata": {},
   "source": [
    "It is found that North Market, Los Guachos Taqueria, and  Akai Hana are the top three restaurant that are reommended to go for seafood."
   ]
  },
  {
   "cell_type": "markdown",
   "metadata": {},
   "source": [
    "# Whole Yelp dataset analysis"
   ]
  },
  {
   "cell_type": "code",
   "execution_count": 31,
   "metadata": {},
   "outputs": [],
   "source": [
    "import pickle\n",
    "import matplotlib.pyplot as plt"
   ]
  },
  {
   "cell_type": "markdown",
   "metadata": {},
   "source": [
    "**1. Read business data to find food, restaurant related business.** <br>\n",
    "**2. Read review data and store the review as text for summarization.** <br>\n",
    "**3. Based on data from (1), calculate the distribution of likes(star >=3) and unlikes, and price, and statistical significance between multiple restaurants.**"
   ]
  },
  {
   "cell_type": "markdown",
   "metadata": {},
   "source": [
    "**Function to convert json list to dataframe**"
   ]
  },
  {
   "cell_type": "code",
   "execution_count": 233,
   "metadata": {},
   "outputs": [],
   "source": [
    "def convert_df(data):\n",
    "    keys = list(data[0].keys())\n",
    "    result = {i:[] for i in keys}\n",
    "    for d in data:\n",
    "        for i in keys:\n",
    "            result[i].append(d[i])\n",
    "    df = pd.DataFrame(result)\n",
    "    return df"
   ]
  },
  {
   "cell_type": "markdown",
   "metadata": {},
   "source": [
    "## Read yelp business data set"
   ]
  },
  {
   "cell_type": "code",
   "execution_count": 241,
   "metadata": {},
   "outputs": [
    {
     "name": "stdout",
     "output_type": "stream",
     "text": [
      "CPU times: user 2 µs, sys: 1 µs, total: 3 µs\n",
      "Wall time: 5.25 µs\n"
     ]
    }
   ],
   "source": [
    "count = 0\n",
    "business_data = []\n",
    "with open(\"./yelp_dataset/business.json\") as f:\n",
    "    for line in f:\n",
    "        count += 1\n",
    "        business_data.append(json.loads(line))\n",
    "        if count >= 100000:\n",
    "            break\n",
    "%time"
   ]
  },
  {
   "cell_type": "code",
   "execution_count": 242,
   "metadata": {},
   "outputs": [],
   "source": [
    "business_df = convert_df(business_data)"
   ]
  },
  {
   "cell_type": "code",
   "execution_count": 243,
   "metadata": {},
   "outputs": [
    {
     "data": {
      "text/html": [
       "<div>\n",
       "<style scoped>\n",
       "    .dataframe tbody tr th:only-of-type {\n",
       "        vertical-align: middle;\n",
       "    }\n",
       "\n",
       "    .dataframe tbody tr th {\n",
       "        vertical-align: top;\n",
       "    }\n",
       "\n",
       "    .dataframe thead th {\n",
       "        text-align: right;\n",
       "    }\n",
       "</style>\n",
       "<table border=\"1\" class=\"dataframe\">\n",
       "  <thead>\n",
       "    <tr style=\"text-align: right;\">\n",
       "      <th></th>\n",
       "      <th>business_id</th>\n",
       "      <th>name</th>\n",
       "      <th>address</th>\n",
       "      <th>city</th>\n",
       "      <th>state</th>\n",
       "      <th>postal_code</th>\n",
       "      <th>latitude</th>\n",
       "      <th>longitude</th>\n",
       "      <th>stars</th>\n",
       "      <th>review_count</th>\n",
       "      <th>is_open</th>\n",
       "      <th>attributes</th>\n",
       "      <th>categories</th>\n",
       "      <th>hours</th>\n",
       "    </tr>\n",
       "  </thead>\n",
       "  <tbody>\n",
       "    <tr>\n",
       "      <th>0</th>\n",
       "      <td>1SWheh84yJXfytovILXOAQ</td>\n",
       "      <td>Arizona Biltmore Golf Club</td>\n",
       "      <td>2818 E Camino Acequia Drive</td>\n",
       "      <td>Phoenix</td>\n",
       "      <td>AZ</td>\n",
       "      <td>85016</td>\n",
       "      <td>33.522143</td>\n",
       "      <td>-112.018481</td>\n",
       "      <td>3.0</td>\n",
       "      <td>5</td>\n",
       "      <td>0</td>\n",
       "      <td>{'GoodForKids': 'False'}</td>\n",
       "      <td>Golf, Active Life</td>\n",
       "      <td>None</td>\n",
       "    </tr>\n",
       "    <tr>\n",
       "      <th>1</th>\n",
       "      <td>QXAEGFB4oINsVuTFxEYKFQ</td>\n",
       "      <td>Emerald Chinese Restaurant</td>\n",
       "      <td>30 Eglinton Avenue W</td>\n",
       "      <td>Mississauga</td>\n",
       "      <td>ON</td>\n",
       "      <td>L5R 3E7</td>\n",
       "      <td>43.605499</td>\n",
       "      <td>-79.652289</td>\n",
       "      <td>2.5</td>\n",
       "      <td>128</td>\n",
       "      <td>1</td>\n",
       "      <td>{'RestaurantsReservations': 'True', 'GoodForMe...</td>\n",
       "      <td>Specialty Food, Restaurants, Dim Sum, Imported...</td>\n",
       "      <td>{'Monday': '9:0-0:0', 'Tuesday': '9:0-0:0', 'W...</td>\n",
       "    </tr>\n",
       "    <tr>\n",
       "      <th>2</th>\n",
       "      <td>gnKjwL_1w79qoiV3IC_xQQ</td>\n",
       "      <td>Musashi Japanese Restaurant</td>\n",
       "      <td>10110 Johnston Rd, Ste 15</td>\n",
       "      <td>Charlotte</td>\n",
       "      <td>NC</td>\n",
       "      <td>28210</td>\n",
       "      <td>35.092564</td>\n",
       "      <td>-80.859132</td>\n",
       "      <td>4.0</td>\n",
       "      <td>170</td>\n",
       "      <td>1</td>\n",
       "      <td>{'GoodForKids': 'True', 'NoiseLevel': 'u'avera...</td>\n",
       "      <td>Sushi Bars, Restaurants, Japanese</td>\n",
       "      <td>{'Monday': '17:30-21:30', 'Wednesday': '17:30-...</td>\n",
       "    </tr>\n",
       "    <tr>\n",
       "      <th>3</th>\n",
       "      <td>xvX2CttrVhyG2z1dFg_0xw</td>\n",
       "      <td>Farmers Insurance - Paul Lorenz</td>\n",
       "      <td>15655 W Roosevelt St, Ste 237</td>\n",
       "      <td>Goodyear</td>\n",
       "      <td>AZ</td>\n",
       "      <td>85338</td>\n",
       "      <td>33.455613</td>\n",
       "      <td>-112.395596</td>\n",
       "      <td>5.0</td>\n",
       "      <td>3</td>\n",
       "      <td>1</td>\n",
       "      <td>None</td>\n",
       "      <td>Insurance, Financial Services</td>\n",
       "      <td>{'Monday': '8:0-17:0', 'Tuesday': '8:0-17:0', ...</td>\n",
       "    </tr>\n",
       "    <tr>\n",
       "      <th>4</th>\n",
       "      <td>HhyxOkGAM07SRYtlQ4wMFQ</td>\n",
       "      <td>Queen City Plumbing</td>\n",
       "      <td>4209 Stuart Andrew Blvd, Ste F</td>\n",
       "      <td>Charlotte</td>\n",
       "      <td>NC</td>\n",
       "      <td>28217</td>\n",
       "      <td>35.190012</td>\n",
       "      <td>-80.887223</td>\n",
       "      <td>4.0</td>\n",
       "      <td>4</td>\n",
       "      <td>1</td>\n",
       "      <td>{'BusinessAcceptsBitcoin': 'False', 'ByAppoint...</td>\n",
       "      <td>Plumbing, Shopping, Local Services, Home Servi...</td>\n",
       "      <td>{'Monday': '7:0-23:0', 'Tuesday': '7:0-23:0', ...</td>\n",
       "    </tr>\n",
       "  </tbody>\n",
       "</table>\n",
       "</div>"
      ],
      "text/plain": [
       "              business_id                             name  \\\n",
       "0  1SWheh84yJXfytovILXOAQ       Arizona Biltmore Golf Club   \n",
       "1  QXAEGFB4oINsVuTFxEYKFQ       Emerald Chinese Restaurant   \n",
       "2  gnKjwL_1w79qoiV3IC_xQQ      Musashi Japanese Restaurant   \n",
       "3  xvX2CttrVhyG2z1dFg_0xw  Farmers Insurance - Paul Lorenz   \n",
       "4  HhyxOkGAM07SRYtlQ4wMFQ              Queen City Plumbing   \n",
       "\n",
       "                          address         city state postal_code   latitude  \\\n",
       "0     2818 E Camino Acequia Drive      Phoenix    AZ       85016  33.522143   \n",
       "1            30 Eglinton Avenue W  Mississauga    ON     L5R 3E7  43.605499   \n",
       "2       10110 Johnston Rd, Ste 15    Charlotte    NC       28210  35.092564   \n",
       "3   15655 W Roosevelt St, Ste 237     Goodyear    AZ       85338  33.455613   \n",
       "4  4209 Stuart Andrew Blvd, Ste F    Charlotte    NC       28217  35.190012   \n",
       "\n",
       "    longitude  stars  review_count  is_open  \\\n",
       "0 -112.018481    3.0             5        0   \n",
       "1  -79.652289    2.5           128        1   \n",
       "2  -80.859132    4.0           170        1   \n",
       "3 -112.395596    5.0             3        1   \n",
       "4  -80.887223    4.0             4        1   \n",
       "\n",
       "                                          attributes  \\\n",
       "0                           {'GoodForKids': 'False'}   \n",
       "1  {'RestaurantsReservations': 'True', 'GoodForMe...   \n",
       "2  {'GoodForKids': 'True', 'NoiseLevel': 'u'avera...   \n",
       "3                                               None   \n",
       "4  {'BusinessAcceptsBitcoin': 'False', 'ByAppoint...   \n",
       "\n",
       "                                          categories  \\\n",
       "0                                  Golf, Active Life   \n",
       "1  Specialty Food, Restaurants, Dim Sum, Imported...   \n",
       "2                  Sushi Bars, Restaurants, Japanese   \n",
       "3                      Insurance, Financial Services   \n",
       "4  Plumbing, Shopping, Local Services, Home Servi...   \n",
       "\n",
       "                                               hours  \n",
       "0                                               None  \n",
       "1  {'Monday': '9:0-0:0', 'Tuesday': '9:0-0:0', 'W...  \n",
       "2  {'Monday': '17:30-21:30', 'Wednesday': '17:30-...  \n",
       "3  {'Monday': '8:0-17:0', 'Tuesday': '8:0-17:0', ...  \n",
       "4  {'Monday': '7:0-23:0', 'Tuesday': '7:0-23:0', ...  "
      ]
     },
     "execution_count": 243,
     "metadata": {},
     "output_type": "execute_result"
    }
   ],
   "source": [
    "business_df.head()"
   ]
  },
  {
   "cell_type": "markdown",
   "metadata": {},
   "source": [
    "### Find food related businesss"
   ]
  },
  {
   "cell_type": "code",
   "execution_count": 91,
   "metadata": {},
   "outputs": [],
   "source": [
    "keywords = set(['Food','Restaurants','Bars'])"
   ]
  },
  {
   "cell_type": "code",
   "execution_count": 92,
   "metadata": {},
   "outputs": [
    {
     "data": {
      "text/plain": [
       "{'Bars', 'Food', 'Restaurants'}"
      ]
     },
     "execution_count": 92,
     "metadata": {},
     "output_type": "execute_result"
    }
   ],
   "source": [
    "keywords"
   ]
  },
  {
   "cell_type": "code",
   "execution_count": 94,
   "metadata": {},
   "outputs": [],
   "source": [
    "food_index = []\n",
    "for index, rows in business_df.iterrows():\n",
    "    c = rows['categories']\n",
    "    if c:\n",
    "        c2 = c.split(',')\n",
    "        if keywords.intersection(set(c2)):\n",
    "            food_index.append(index)"
   ]
  },
  {
   "cell_type": "code",
   "execution_count": 95,
   "metadata": {},
   "outputs": [],
   "source": [
    "food_b = business_df.iloc[food_index]\n",
    "food_ids = list(food_b.business_id.unique())"
   ]
  },
  {
   "cell_type": "markdown",
   "metadata": {},
   "source": [
    "### Store price as a new column"
   ]
  },
  {
   "cell_type": "code",
   "execution_count": 96,
   "metadata": {},
   "outputs": [],
   "source": [
    "for index, row in food_b.iterrows():\n",
    "    try:\n",
    "        food_b.loc[index,'price'] = row['attributes']['RestaurantsPriceRange2']\n",
    "    except:\n",
    "        pass"
   ]
  },
  {
   "cell_type": "code",
   "execution_count": 97,
   "metadata": {},
   "outputs": [],
   "source": [
    "all_cols = list(food_b)\n",
    "key_cols = ['business_id','stars','review_count','price']"
   ]
  },
  {
   "cell_type": "code",
   "execution_count": 18,
   "metadata": {},
   "outputs": [
    {
     "name": "stdout",
     "output_type": "stream",
     "text": [
      "/Users/chengwang/Documents/Github/TDI_Project/Project\r\n"
     ]
    }
   ],
   "source": [
    "!pwd"
   ]
  },
  {
   "cell_type": "markdown",
   "metadata": {},
   "source": [
    "## Read yelp review data set"
   ]
  },
  {
   "cell_type": "code",
   "execution_count": 98,
   "metadata": {},
   "outputs": [
    {
     "name": "stdout",
     "output_type": "stream",
     "text": [
      "CPU times: user 2 µs, sys: 0 ns, total: 2 µs\n",
      "Wall time: 5.25 µs\n"
     ]
    }
   ],
   "source": [
    "count = 0\n",
    "yelp_review = []\n",
    "with open(\"./yelp_dataset/review.json\") as f:\n",
    "    for line in f:\n",
    "        count += 1\n",
    "        yelp_review.append(json.loads(line))\n",
    "        if count >= 200000:\n",
    "            break\n",
    "%time"
   ]
  },
  {
   "cell_type": "code",
   "execution_count": 99,
   "metadata": {},
   "outputs": [],
   "source": [
    "review_df = convert_df(yelp_review)"
   ]
  },
  {
   "cell_type": "markdown",
   "metadata": {},
   "source": [
    "**Join Price to the review DF**"
   ]
  },
  {
   "cell_type": "code",
   "execution_count": 100,
   "metadata": {},
   "outputs": [],
   "source": [
    "business_price = food_b.loc[:,key_cols]"
   ]
  },
  {
   "cell_type": "code",
   "execution_count": 101,
   "metadata": {},
   "outputs": [],
   "source": [
    "food_review = pd.merge(review_df, business_price, on='business_id')"
   ]
  },
  {
   "cell_type": "markdown",
   "metadata": {},
   "source": [
    "**Group by business id and count the number of likes and dislikes, number of reviews** "
   ]
  },
  {
   "cell_type": "code",
   "execution_count": 103,
   "metadata": {},
   "outputs": [],
   "source": [
    "review_group = food_review.groupby(['business_id'])"
   ]
  },
  {
   "cell_type": "code",
   "execution_count": 104,
   "metadata": {},
   "outputs": [],
   "source": [
    "result = {'business_id':[],'stars':[],'review_count':[]}    \n",
    "for name, group in review_group:\n",
    "    stars = list(group['stars_x'].values)\n",
    "    result['business_id'].append(name)\n",
    "    result['review_count'].append(len(group))\n",
    "    result['stars'].append(stars)"
   ]
  },
  {
   "cell_type": "code",
   "execution_count": 105,
   "metadata": {},
   "outputs": [],
   "source": [
    "result_df = pd.DataFrame(result)"
   ]
  },
  {
   "cell_type": "code",
   "execution_count": 119,
   "metadata": {},
   "outputs": [],
   "source": [
    "result_df.to_pickle('./yelp_dataset/food_review_group.pickle')\n",
    "food_review.to_pickle('./yelp_dataset/food_review.pickle')\n",
    "food_b.to_pickle('./yelp_dataset/food_business.pickle')"
   ]
  },
  {
   "cell_type": "markdown",
   "metadata": {},
   "source": [
    "## Statistical analysis of food business data"
   ]
  },
  {
   "cell_type": "code",
   "execution_count": 3,
   "metadata": {},
   "outputs": [],
   "source": [
    "result_df = pd.read_pickle('./yelp_dataset/food_review_group.pickle')\n",
    "food_review = pd.read_pickle('./yelp_dataset/food_review.pickle')\n",
    "food_b = pd.read_pickle('./yelp_dataset/food_business.pickle')"
   ]
  },
  {
   "cell_type": "code",
   "execution_count": 21,
   "metadata": {},
   "outputs": [],
   "source": [
    "review_counts = food_b['review_count'].values\n",
    "stars = food_b['stars'].values"
   ]
  },
  {
   "cell_type": "code",
   "execution_count": 45,
   "metadata": {},
   "outputs": [],
   "source": [
    "indices = np.where(review_counts>=30)"
   ]
  },
  {
   "cell_type": "code",
   "execution_count": 50,
   "metadata": {},
   "outputs": [
    {
     "data": {
      "text/plain": [
       "5049"
      ]
     },
     "execution_count": 50,
     "metadata": {},
     "output_type": "execute_result"
    }
   ],
   "source": [
    "len(review_counts[indices])"
   ]
  },
  {
   "cell_type": "markdown",
   "metadata": {},
   "source": [
    "**There are 5049 (out of 14666,34.4%) food restaurant have over 30 reviews, which are eligible for statistical compararison.**"
   ]
  },
  {
   "cell_type": "code",
   "execution_count": 52,
   "metadata": {},
   "outputs": [],
   "source": [
    "stars_s = stars[indices]"
   ]
  },
  {
   "cell_type": "code",
   "execution_count": 53,
   "metadata": {},
   "outputs": [
    {
     "data": {
      "image/png": "[encoded data removed]",
      "text/plain": [
       "<Figure size 432x288 with 1 Axes>"
      ]
     },
     "metadata": {
      "needs_background": "light"
     },
     "output_type": "display_data"
    }
   ],
   "source": [
    "plt.hist(stars[indices])\n",
    "plt.show()"
   ]
  },
  {
   "cell_type": "code",
   "execution_count": 43,
   "metadata": {},
   "outputs": [
    {
     "data": {
      "text/plain": [
       "4478"
      ]
     },
     "execution_count": 43,
     "metadata": {},
     "output_type": "execute_result"
    }
   ],
   "source": [
    "len(stars_s[np.where((stars_s>=3) & (stars_s<=4.5))])"
   ]
  },
  {
   "cell_type": "markdown",
   "metadata": {},
   "source": [
    "**For restaurants with review count over 30, there are 4478 (out of 5049,88.7%) food restaurant have ratings from 3.0 to 4.5.**"
   ]
  },
  {
   "cell_type": "markdown",
   "metadata": {},
   "source": [
    "**For each business, calculate the number of positive, neutral and negative reviews.**"
   ]
  },
  {
   "cell_type": "code",
   "execution_count": 120,
   "metadata": {},
   "outputs": [],
   "source": [
    "result_df.head()\n",
    "result_df['stars'] = result_df['stars'].apply(np.array)"
   ]
  },
  {
   "cell_type": "code",
   "execution_count": 137,
   "metadata": {},
   "outputs": [],
   "source": [
    "# Store business ids that can be used for statistical comparison\n",
    "business_ids = food_b.iloc[indices].business_id.unique()\n",
    "def stats_info(df,bid):\n",
    "    info = df[df['business_id'] == bid]\n",
    "    ratings = np.array(info.stars.values.tolist())\n",
    "    pos = len(ratings[np.where(ratings>=3.5)])\n",
    "    neu = len(ratings[np.where((ratings>2.5)&(ratings<3.5))])\n",
    "    neg = len(ratings[np.where(ratings<=2.5)])\n",
    "    return info.review_count.values, ratings, pos, neu, neg"
   ]
  },
  {
   "cell_type": "code",
   "execution_count": 159,
   "metadata": {},
   "outputs": [],
   "source": [
    "def pie_chart(df,bid):\n",
    "    number, data, pos, neu, neg = stats_info(df,bid)\n",
    "    # Pie chart \n",
    "    labels = ['Likes', 'Neutral', 'Dislikes']\n",
    "    sizes = [pos, neu, neg]\n",
    "    #colors\n",
    "    colors = ['#A9D18E','#ED7D31','#D32223']\n",
    "    fig1, ax1 = plt.subplots()\n",
    "    ax1.pie(sizes, colors=colors, labels=labels, autopct='%1.1f%%', startangle=90)\n",
    "    # Equal aspect ratio ensures that pie is drawn as a circle\n",
    "    ax1.axis('equal')  \n",
    "    plt.tight_layout()\n",
    "    plt.title('Pie chart for one business example')\n",
    "    plt.show()\n",
    "    return [number, data, pos, neu, neg]"
   ]
  },
  {
   "cell_type": "code",
   "execution_count": 160,
   "metadata": {},
   "outputs": [
    {
     "data": {
      "image/png": "[encoded data removed]",
      "text/plain": [
       "<Figure size 432x288 with 1 Axes>"
      ]
     },
     "metadata": {},
     "output_type": "display_data"
    },
    {
     "data": {
      "image/png": "[encoded data removed]",
      "text/plain": [
       "<Figure size 432x288 with 1 Axes>"
      ]
     },
     "metadata": {},
     "output_type": "display_data"
    }
   ],
   "source": [
    "stats1 = pie_chart(result_df,business_ids[2])\n",
    "stats2 = pie_chart(result_df,business_ids[4])"
   ]
  },
  {
   "cell_type": "markdown",
   "metadata": {},
   "source": [
    "**Statistical comparison between two business**"
   ]
  },
  {
   "cell_type": "code",
   "execution_count": 186,
   "metadata": {},
   "outputs": [],
   "source": [
    "from scipy import stats\n",
    "def cal_test(v1,v2):\n",
    "    t_stats, p_value = stats.ttest_ind(v1, v2, equal_var = False)\n",
    "    if p_value <=0.05:\n",
    "        print('Statistical difference detected')\n",
    "    else:\n",
    "        print('Statistical difference Not detected')\n",
    "    return p_value"
   ]
  },
  {
   "cell_type": "code",
   "execution_count": 187,
   "metadata": {},
   "outputs": [
    {
     "name": "stdout",
     "output_type": "stream",
     "text": [
      "The rating averages are 4.182 and 3.821\n",
      "Statistical difference Not detected\n"
     ]
    }
   ],
   "source": [
    "print('The rating averages are %.3f and %.3f' % (np.mean(stats1[1]),np.mean(stats2[1])))\n",
    "p_v = cal_test(stats1[1].T,stats2[1].T)"
   ]
  },
  {
   "cell_type": "markdown",
   "metadata": {},
   "source": [
    "**One example of restaurants**"
   ]
  },
  {
   "cell_type": "code",
   "execution_count": 273,
   "metadata": {},
   "outputs": [
    {
     "data": {
      "image/png": "[encoded data removed]",
      "text/plain": [
       "<Figure size 432x288 with 1 Axes>"
      ]
     },
     "metadata": {},
     "output_type": "display_data"
    }
   ],
   "source": [
    "stats_t = pie_chart(result_df,'H5Y6o9H4rtxbHJFgLqI6Fw')"
   ]
  },
  {
   "cell_type": "markdown",
   "metadata": {},
   "source": [
    "**Ratings**"
   ]
  },
  {
   "cell_type": "code",
   "execution_count": 274,
   "metadata": {},
   "outputs": [
    {
     "data": {
      "text/plain": [
       "3.06"
      ]
     },
     "execution_count": 274,
     "metadata": {},
     "output_type": "execute_result"
    }
   ],
   "source": [
    "np.mean(stats_t[1])"
   ]
  },
  {
   "cell_type": "markdown",
   "metadata": {},
   "source": [
    "## Text summarization on yelp reviews"
   ]
  },
  {
   "cell_type": "code",
   "execution_count": 190,
   "metadata": {},
   "outputs": [],
   "source": [
    "example = result_df[result_df['review_count']==50]"
   ]
  },
  {
   "cell_type": "code",
   "execution_count": 191,
   "metadata": {},
   "outputs": [
    {
     "data": {
      "text/plain": [
       "'H5Y6o9H4rtxbHJFgLqI6Fw'"
      ]
     },
     "execution_count": 191,
     "metadata": {},
     "output_type": "execute_result"
    }
   ],
   "source": [
    "example.business_id.values[0]"
   ]
  },
  {
   "cell_type": "code",
   "execution_count": 192,
   "metadata": {},
   "outputs": [],
   "source": [
    "sample = food_review[food_review['business_id'] == 'H5Y6o9H4rtxbHJFgLqI6Fw']"
   ]
  },
  {
   "cell_type": "code",
   "execution_count": 276,
   "metadata": {},
   "outputs": [],
   "source": [
    "sample_pos = sample[sample['stars_x']>=3.5]\n",
    "sample_neg = sample[sample['stars_x']<=2.5]\n",
    "sample_neu = sample[(sample['stars_x']>2.5)&(sample['stars_x']<3.5)]"
   ]
  },
  {
   "cell_type": "code",
   "execution_count": 277,
   "metadata": {},
   "outputs": [],
   "source": [
    "sample_text_pos = list(sample_pos.text.values)\n",
    "sample_text_neg = list(sample_neg.text.values)\n",
    "sample_text_neu = list(sample_neu.text.values)"
   ]
  },
  {
   "cell_type": "markdown",
   "metadata": {},
   "source": [
    "### Data proprocessing -- Clean text data"
   ]
  },
  {
   "cell_type": "code",
   "execution_count": 218,
   "metadata": {
    "scrolled": true
   },
   "outputs": [
    {
     "name": "stdout",
     "output_type": "stream",
     "text": [
      "--2019-11-15 17:02:40--  http://nlp.stanford.edu/data/glove.6B.zip\n",
      "Resolving nlp.stanford.edu (nlp.stanford.edu)... 171.64.67.140\n",
      "Connecting to nlp.stanford.edu (nlp.stanford.edu)|171.64.67.140|:80... connected.\n",
      "HTTP request sent, awaiting response... 302 Found\n",
      "Location: https://nlp.stanford.edu/data/glove.6B.zip [following]\n",
      "--2019-11-15 17:02:40--  https://nlp.stanford.edu/data/glove.6B.zip\n",
      "Connecting to nlp.stanford.edu (nlp.stanford.edu)|171.64.67.140|:443... connected.\n",
      "HTTP request sent, awaiting response... 301 Moved Permanently\n",
      "Location: http://downloads.cs.stanford.edu/nlp/data/glove.6B.zip [following]\n",
      "--2019-11-15 17:02:40--  http://downloads.cs.stanford.edu/nlp/data/glove.6B.zip\n",
      "Resolving downloads.cs.stanford.edu (downloads.cs.stanford.edu)... 171.64.64.22\n",
      "Connecting to downloads.cs.stanford.edu (downloads.cs.stanford.edu)|171.64.64.22|:80... connected.\n",
      "HTTP request sent, awaiting response... 200 OK\n",
      "Length: 862182613 (822M) [application/zip]\n",
      "Saving to: ‘glove.6B.zip’\n",
      "\n",
      "glove.6B.zip        100%[===================>] 822.24M  2.00MB/s    in 6m 33s  \n",
      "\n",
      "2019-11-15 17:09:13 (2.09 MB/s) - ‘glove.6B.zip’ saved [862182613/862182613]\n",
      "\n"
     ]
    }
   ],
   "source": [
    "# download pretrained GloVe word embeddings\n",
    "!wget http://nlp.stanford.edu/data/glove.6B.zip"
   ]
  },
  {
   "cell_type": "code",
   "execution_count": 219,
   "metadata": {},
   "outputs": [
    {
     "name": "stdout",
     "output_type": "stream",
     "text": [
      "Archive:  glove.6B.zip\n",
      "  inflating: glove.6B.50d.txt        \n",
      "  inflating: glove.6B.100d.txt       \n",
      "  inflating: glove.6B.200d.txt       \n",
      "  inflating: glove.6B.300d.txt       \n"
     ]
    }
   ],
   "source": [
    "!unzip glove*.zip"
   ]
  },
  {
   "cell_type": "markdown",
   "metadata": {},
   "source": [
    "#### Tokenize the sentences"
   ]
  },
  {
   "cell_type": "code",
   "execution_count": 279,
   "metadata": {},
   "outputs": [],
   "source": [
    "from nltk.tokenize import sent_tokenize"
   ]
  },
  {
   "cell_type": "code",
   "execution_count": 280,
   "metadata": {},
   "outputs": [],
   "source": [
    "sentences_pos = sent_tokenize(''.join(sample_text_pos))\n",
    "sentences_neg = sent_tokenize(''.join(sample_text_neg))\n",
    "sentences_neu = sent_tokenize(''.join(sample_text_neu))"
   ]
  },
  {
   "cell_type": "code",
   "execution_count": 281,
   "metadata": {},
   "outputs": [],
   "source": [
    "sent_pos = '\\n'.join(sentences_pos)\n",
    "sent_neg = '\\n'.join(sentences_neg)\n",
    "sent_neu = '\\n'.join(sentences_neu)"
   ]
  },
  {
   "cell_type": "code",
   "execution_count": 199,
   "metadata": {},
   "outputs": [],
   "source": [
    "# remove punctuations, numbers and special characters\n",
    "clean_sentences = pd.Series(sentences).str.replace(\"[^a-zA-Z]\", \" \")\n",
    "\n",
    "# make alphabets lowercase\n",
    "clean_sentences = [s.lower() for s in clean_sentences]"
   ]
  },
  {
   "cell_type": "code",
   "execution_count": 200,
   "metadata": {},
   "outputs": [],
   "source": [
    "from nltk.corpus import stopwords\n",
    "stop_words = stopwords.words('english')"
   ]
  },
  {
   "cell_type": "code",
   "execution_count": 201,
   "metadata": {},
   "outputs": [],
   "source": [
    "# function to remove stopwords\n",
    "def remove_stopwords(sen):\n",
    "    sen_new = \" \".join([i for i in sen if i not in stop_words])\n",
    "    return sen_new"
   ]
  },
  {
   "cell_type": "code",
   "execution_count": 202,
   "metadata": {},
   "outputs": [],
   "source": [
    "# remove stopwords from the sentences\n",
    "clean_sentences = [remove_stopwords(r.split()) for r in clean_sentences]"
   ]
  },
  {
   "cell_type": "code",
   "execution_count": 203,
   "metadata": {},
   "outputs": [],
   "source": [
    "# Extract word vectors\n",
    "word_embeddings = {}\n",
    "f = open('./glove.6B.50d.txt', encoding='utf-8')\n",
    "for line in f:\n",
    "    values = line.split()\n",
    "    word = values[0]\n",
    "    coefs = np.asarray(values[1:], dtype='float32')\n",
    "    word_embeddings[word] = coefs\n",
    "f.close()"
   ]
  },
  {
   "cell_type": "code",
   "execution_count": 204,
   "metadata": {},
   "outputs": [],
   "source": [
    "sentence_vectors = []\n",
    "for i in clean_sentences:\n",
    "    if len(i) != 0:\n",
    "        v = sum([word_embeddings.get(w, np.zeros((50,))) for w in i.split()])/(len(i.split())+0.001)\n",
    "    else:\n",
    "        v = np.zeros((50,))\n",
    "    sentence_vectors.append(v)"
   ]
  },
  {
   "cell_type": "code",
   "execution_count": 205,
   "metadata": {},
   "outputs": [],
   "source": [
    "# similarity matrix\n",
    "sim_mat = np.zeros([len(sentences), len(sentences)])"
   ]
  },
  {
   "cell_type": "code",
   "execution_count": 206,
   "metadata": {},
   "outputs": [],
   "source": [
    "from sklearn.metrics.pairwise import cosine_similarity"
   ]
  },
  {
   "cell_type": "code",
   "execution_count": 208,
   "metadata": {},
   "outputs": [],
   "source": [
    "for i in range(len(sentences)):\n",
    "    for j in range(len(sentences)):\n",
    "        if i != j:\n",
    "            sim_mat[i][j] = cosine_similarity(sentence_vectors[i].reshape(1,50), sentence_vectors[j].reshape(1,50))[0,0]"
   ]
  },
  {
   "cell_type": "code",
   "execution_count": 209,
   "metadata": {},
   "outputs": [],
   "source": [
    "import networkx as nx\n",
    "nx_graph = nx.from_numpy_array(sim_mat)\n",
    "scores = nx.pagerank(nx_graph)"
   ]
  },
  {
   "cell_type": "code",
   "execution_count": 265,
   "metadata": {},
   "outputs": [],
   "source": [
    "scores_rank = list(scores.values())\n",
    "ranks = sorted(range(len(scores_rank)), key=lambda k: scores_rank[k],reverse=True)"
   ]
  },
  {
   "cell_type": "code",
   "execution_count": 269,
   "metadata": {},
   "outputs": [
    {
     "name": "stdout",
     "output_type": "stream",
     "text": [
      "If I am ever in the mood to eat at this corporate giant again, I won't give it a second, I would just go.So me and my boyfriend frequent this place because its pretty convenient to where we live and not too expensive.\n",
      "She was really sweet, made me a great Deep Eddy lemonade and made sure my to-go order was correct-- even opened it to show me.\n",
      "A lot of places lack in customer service but she's awesome as long as she's here I'll continue to come back.Love this place for lunch.\n",
      "The food was pretty good and but the service was on point.\n",
      "The staff is very polite and from what I could see the dining area is very clean.We have always had great service and the food is always the best.\n",
      "Food is always so good and a good deal.Our whole family just loves Chili's.\n",
      "I went with Mom thinking the food would be plastic but it was surprisingly flavorful.\n",
      "Restrooms could use a little bit of attention but other than that I would say this long standing Chilis is still doing a great job.\n",
      "The only thing that could be improved is that the salad had visible wilt.Today my husband & I went especially to try the loaded fajitas.\n",
      "We will definitely be back for more!As always had a great meal at this Chili's.\n"
     ]
    }
   ],
   "source": [
    "# Specify number of sentences to form the summary\n",
    "sn = 10\n",
    "# Generate summary\n",
    "for i in range(sn):\n",
    "    print(sentences[ranks[i]])"
   ]
  },
  {
   "cell_type": "code",
   "execution_count": 282,
   "metadata": {},
   "outputs": [],
   "source": [
    "from gensim.summarization import summarize\n",
    "from gensim.summarization import keywords"
   ]
  },
  {
   "cell_type": "markdown",
   "metadata": {},
   "source": [
    "**Summary of positve reviews**"
   ]
  },
  {
   "cell_type": "code",
   "execution_count": 283,
   "metadata": {},
   "outputs": [
    {
     "name": "stdout",
     "output_type": "stream",
     "text": [
      "The staff is very polite and from what I could see the dining area is very clean.We have always had great service and the food is always the best.\n"
     ]
    }
   ],
   "source": [
    "print(summarize(sent_pos,word_count=30))"
   ]
  },
  {
   "cell_type": "markdown",
   "metadata": {},
   "source": [
    "**Summary of neutral reviews**"
   ]
  },
  {
   "cell_type": "code",
   "execution_count": 284,
   "metadata": {},
   "outputs": [
    {
     "name": "stdout",
     "output_type": "stream",
     "text": [
      "The food was good and we got dessert, yummy.This Chili's location has pretty good service, except if you sit in the bar area.\n"
     ]
    }
   ],
   "source": [
    "print(summarize(sent_neu,word_count=30))"
   ]
  },
  {
   "cell_type": "markdown",
   "metadata": {},
   "source": [
    "**Summary of negative reviews**"
   ]
  },
  {
   "cell_type": "code",
   "execution_count": 296,
   "metadata": {},
   "outputs": [
    {
     "name": "stdout",
     "output_type": "stream",
     "text": [
      "Should have walked out when I found out natalie or jen was not there but decided to stay steak was dry (cooked medium) server never came back to check on us just because we are regulars doesn't mean we do not deserve the same service as any other customer.\n",
      "Will be a long time before I give them my business again!I came with a group of friends we were seated about 5:15 it took a whole hour before we received our appetizers which was done after we had to ask for the manager, 1 hour and 30 minutes later we were still waiting for our food, the server never once returned to the table after drinks to say what was going on, the mom and daughter sitting aside from us came after we did and got their appetizer and food before we got anything, and on top of this it wasn't crowed at all after we complained to the manager who is a heavyset guy he just said well the food is here now so what do you want me to do about it which was extremely rude and he really didn't care what kind of service we got one of his solutions was \"well you can just leave now and not worry about it at all\" one of the people in my party said to him that it was no reason to be rude and he said \"I wasn't being rude I gave you an option\" at that point we were all done and just got up to leave, me working in customer service for 5 years I would never think that a manger would be so rude and uncaring about such a situation, and I feel like part of the reason we received poor customer service is because we were young and they didn't expect us to care about service.\n",
      "I will never return to this location and will advice anyone I know the sameWow worst customer service ever guy took my order waited 45 minutes and my drinks never came and place is not even busyDefinitely hoping for better I got the endless enchiladas that they're running on special and it took forever to get them out so I only got one round and ordered a second because my family had finished and we're ready to leave but we're willing to wait for one more round \n",
      "Here is the kicker while we were waiting for my second round of the enchiladas a different server came to ask my wife about our kids and how close in age they were.\n",
      "No hostess to take out name down, when she did come around it was to seat a waiting party, strike 1 their table wasnt ready so she had to help clear it off, leaving me standing up front with a family confused and other people unable to navigate around us.\n"
     ]
    }
   ],
   "source": [
    "print(summarize(sent_neg,ratio=0.05))"
   ]
  },
  {
   "cell_type": "markdown",
   "metadata": {},
   "source": [
    "## Read yelp tips dataset"
   ]
  },
  {
   "cell_type": "code",
   "execution_count": 231,
   "metadata": {},
   "outputs": [
    {
     "name": "stdout",
     "output_type": "stream",
     "text": [
      "CPU times: user 4 µs, sys: 3 µs, total: 7 µs\n",
      "Wall time: 9.06 µs\n"
     ]
    }
   ],
   "source": [
    "count = 0\n",
    "tips_data = []\n",
    "with open(\"./yelp_dataset/tip.json\") as f:\n",
    "    for line in f:\n",
    "        count += 1\n",
    "        tips_data.append(json.loads(line))\n",
    "        if count >= 100000:\n",
    "            break\n",
    "%time"
   ]
  },
  {
   "cell_type": "code",
   "execution_count": 234,
   "metadata": {},
   "outputs": [],
   "source": [
    "tip_df = convert_df(tips_data)"
   ]
  },
  {
   "cell_type": "code",
   "execution_count": 247,
   "metadata": {},
   "outputs": [
    {
     "data": {
      "text/html": [
       "<div>\n",
       "<style scoped>\n",
       "    .dataframe tbody tr th:only-of-type {\n",
       "        vertical-align: middle;\n",
       "    }\n",
       "\n",
       "    .dataframe tbody tr th {\n",
       "        vertical-align: top;\n",
       "    }\n",
       "\n",
       "    .dataframe thead th {\n",
       "        text-align: right;\n",
       "    }\n",
       "</style>\n",
       "<table border=\"1\" class=\"dataframe\">\n",
       "  <thead>\n",
       "    <tr style=\"text-align: right;\">\n",
       "      <th></th>\n",
       "      <th>business_id</th>\n",
       "      <th>name</th>\n",
       "      <th>address</th>\n",
       "      <th>city</th>\n",
       "      <th>state</th>\n",
       "      <th>postal_code</th>\n",
       "      <th>latitude</th>\n",
       "      <th>longitude</th>\n",
       "      <th>stars</th>\n",
       "      <th>review_count</th>\n",
       "      <th>is_open</th>\n",
       "      <th>attributes</th>\n",
       "      <th>categories</th>\n",
       "      <th>hours</th>\n",
       "    </tr>\n",
       "  </thead>\n",
       "  <tbody>\n",
       "    <tr>\n",
       "      <th>16350</th>\n",
       "      <td>H5Y6o9H4rtxbHJFgLqI6Fw</td>\n",
       "      <td>Chili's</td>\n",
       "      <td>2011 N Rainbow Blvd</td>\n",
       "      <td>Las Vegas</td>\n",
       "      <td>NV</td>\n",
       "      <td>89108</td>\n",
       "      <td>36.198726</td>\n",
       "      <td>-115.242647</td>\n",
       "      <td>3.0</td>\n",
       "      <td>187</td>\n",
       "      <td>1</td>\n",
       "      <td>{'GoodForKids': 'True', 'RestaurantsReservatio...</td>\n",
       "      <td>Restaurants, American (Traditional), Tex-Mex, ...</td>\n",
       "      <td>{'Monday': '11:0-22:0', 'Tuesday': '11:0-22:0'...</td>\n",
       "    </tr>\n",
       "  </tbody>\n",
       "</table>\n",
       "</div>"
      ],
      "text/plain": [
       "                  business_id     name              address       city state  \\\n",
       "16350  H5Y6o9H4rtxbHJFgLqI6Fw  Chili's  2011 N Rainbow Blvd  Las Vegas    NV   \n",
       "\n",
       "      postal_code   latitude   longitude  stars  review_count  is_open  \\\n",
       "16350       89108  36.198726 -115.242647    3.0           187        1   \n",
       "\n",
       "                                              attributes  \\\n",
       "16350  {'GoodForKids': 'True', 'RestaurantsReservatio...   \n",
       "\n",
       "                                              categories  \\\n",
       "16350  Restaurants, American (Traditional), Tex-Mex, ...   \n",
       "\n",
       "                                                   hours  \n",
       "16350  {'Monday': '11:0-22:0', 'Tuesday': '11:0-22:0'...  "
      ]
     },
     "execution_count": 247,
     "metadata": {},
     "output_type": "execute_result"
    }
   ],
   "source": [
    "business_df[business_df['business_id']=='H5Y6o9H4rtxbHJFgLqI6Fw']"
   ]
  },
  {
   "cell_type": "code",
   "execution_count": 249,
   "metadata": {},
   "outputs": [
    {
     "data": {
      "text/plain": [
       "['Server Danielle is super cute and her personality makes her that much more.',\n",
       " \"Hooray for $17 entree's that are ice cold.\",\n",
       " 'Once again, Ms. Cameo is awesome',\n",
       " \"I tried the new Mango chicken and it was pretty good! It's a good light meal so you won't feel over stuffed or starving after. The mango sauce had a good kick to it too.\",\n",
       " 'Lunch =]',\n",
       " 'Margarita chicken is good.',\n",
       " 'Great happy hour!',\n",
       " 'Lunch soup: chicken enchilada !']"
      ]
     },
     "execution_count": 249,
     "metadata": {},
     "output_type": "execute_result"
    }
   ],
   "source": [
    "list(tip_df[tip_df['business_id']=='H5Y6o9H4rtxbHJFgLqI6Fw'].text.values)"
   ]
  },
  {
   "cell_type": "markdown",
   "metadata": {},
   "source": [
    "# References\n",
    "1. https://www.crummy.com/software/BeautifulSoup/bs4/doc/#\n",
    "2. http://nealcaren.github.io/sushi_bars.html\n",
    "3. https://www.yelp.com/developers/documentation/v3/authentication"
   ]
  }
 ],
 "metadata": {
  "kernelspec": {
   "display_name": "Python 3",
   "language": "python",
   "name": "python3"
  },
  "language_info": {
   "codemirror_mode": {
    "name": "ipython",
    "version": 3
   },
   "file_extension": ".py",
   "mimetype": "text/x-python",
   "name": "python",
   "nbconvert_exporter": "python",
   "pygments_lexer": "ipython3",
   "version": "3.6.8"
  },
  "toc": {
   "base_numbering": 1,
   "nav_menu": {},
   "number_sections": true,
   "sideBar": true,
   "skip_h1_title": false,
   "title_cell": "Table of Contents",
   "title_sidebar": "Contents",
   "toc_cell": false,
   "toc_position": {
    "height": "calc(100% - 180px)",
    "left": "10px",
    "top": "150px",
    "width": "265.966px"
   },
   "toc_section_display": true,
   "toc_window_display": false
  },
  "varInspector": {
   "cols": {
    "lenName": 16,
    "lenType": 16,
    "lenVar": 40
   },
   "kernels_config": {
    "python": {
     "delete_cmd_postfix": "",
     "delete_cmd_prefix": "del ",
     "library": "var_list.py",
     "varRefreshCmd": "print(var_dic_list())"
    },
    "r": {
     "delete_cmd_postfix": ") ",
     "delete_cmd_prefix": "rm(",
     "library": "var_list.r",
     "varRefreshCmd": "cat(var_dic_list()) "
    }
   },
   "types_to_exclude": [
    "module",
    "function",
    "builtin_function_or_method",
    "instance",
    "_Feature"
   ],
   "window_display": false
  }
 },
 "nbformat": 4,
 "nbformat_minor": 2
}
